{
 "cells": [
  {
   "cell_type": "markdown",
   "id": "2ed24089",
   "metadata": {},
   "source": [
    "### Code to clean our data\n",
    "##### July 25,2025\n",
    "###### ENLACE\n"
   ]
  },
  {
   "cell_type": "code",
   "execution_count": 3,
   "id": "07acf9fd",
   "metadata": {},
   "outputs": [],
   "source": [
    "import pandas as pd\n",
    "import numpy as np\n",
    "import matplotlib.pyplot as plt\n",
    "import json\n",
    "import re\n",
    "import shap # For SHAP method execution\n",
    "from sklearn.ensemble import RandomForestRegressor # For construction of surrogate model\n",
    "from sklearn.model_selection import train_test_split # For training and testing of the model\n",
    "from sklearn.preprocessing import LabelEncoder # For encoding categorical features"
   ]
  },
  {
   "cell_type": "code",
   "execution_count": null,
   "id": "3ee84c9e",
   "metadata": {},
   "outputs": [],
   "source": [
    "#Charge or df.\n",
    "full_df = pd.read_csv(\"working_df_v3.csv\")\n"
   ]
  },
  {
   "cell_type": "markdown",
   "id": "a319a8f2",
   "metadata": {},
   "source": [
    "### Steps to clean our data\n",
    "0. Gettin know to our data\n",
    "1. Removing Duplicate Data\n",
    "2. Eliminate Unnecessary Data\n",
    "3. Ensure Overall Consistency\n",
    "4. Convert Data Type\n",
    "5. Straightforward and Clear Formatting\n",
    "6. Handle Missing Values\n",
    "7. Fixing Errors\n",
    "8. Keep Data in a Unified Form\n",
    "9. Handling Outliers Using Boxplots\n",
    "10. Normalizing Different Data Formats"
   ]
  },
  {
   "cell_type": "markdown",
   "id": "858f6893",
   "metadata": {},
   "source": [
    "### 0. Know our data\n"
   ]
  },
  {
   "cell_type": "code",
   "execution_count": 8,
   "id": "bc26b938",
   "metadata": {},
   "outputs": [
    {
     "data": {
      "text/plain": [
       "Index(['Unnamed: 0', 'plan_id', 'plan_uuid', 'plan_name', 'objectives',\n",
       "       'is_public', 'acres', 'ensemble_id', 'ensemble_uuid', 'ens_name',\n",
       "       'ens_status', 'is_single_run', 'qf_parameters', 'fuel_id', 'fuel_uuid',\n",
       "       'fuel_parameters', 'fuel_status', 'fuel_viz', 'fuel_viz_running',\n",
       "       'parent_id', 'fuel_ignition_id', 'fuel_blackline_removed',\n",
       "       'ignition_id', 'ignition_uuid', 'ignition_parameters',\n",
       "       'ignition_pattern', 'ignition_fuel_removal_area', 'ignition_dat',\n",
       "       'ignition_viz', 'ignition_viz_running', 'plan_feature_id',\n",
       "       'unit_feature_id', 'unit_feature_uuid', 'unit_id',\n",
       "       'unit_feature_properties', 'unit_feature_geom', 'unit_feature_geom_wkt',\n",
       "       'unit_uuid', 'unit_user_id', 'unit_name', 'unit_uniform',\n",
       "       'unit_filename', 'unit_uploaded_time', 'unit_is_public', 'run_id',\n",
       "       'run_uuid', 'run_ignition_id', 'run_parameters', 'run_status',\n",
       "       'percent_done', 'run_viz', 'metrics', 'run_viz_running',\n",
       "       'status_updated_time', 'execution_try'],\n",
       "      dtype='object')"
      ]
     },
     "execution_count": 8,
     "metadata": {},
     "output_type": "execute_result"
    }
   ],
   "source": [
    "# Let's look at the columns\n",
    "full_df.columns"
   ]
  },
  {
   "cell_type": "code",
   "execution_count": null,
   "id": "e88ef5ea",
   "metadata": {},
   "outputs": [],
   "source": [
    "# Keep only the columns that we need\n",
    "columns_to_keep = ['fuel_id',\n",
    "                   'unit_feature_id',\n",
    "                   'run_parameters',\n",
    "                   'ignition_parameters',\n",
    "                   'ignition_pattern',\n",
    "                   'metrics', ]\n",
    "sub_df = full_df[columns_to_keep]"
   ]
  },
  {
   "cell_type": "code",
   "execution_count": 14,
   "id": "b637be89",
   "metadata": {},
   "outputs": [
    {
     "name": "stdout",
     "output_type": "stream",
     "text": [
      "count    14018.000000\n",
      "mean      1821.516051\n",
      "std        907.473199\n",
      "min          2.000000\n",
      "25%       1177.500000\n",
      "50%       2158.000000\n",
      "75%       2546.000000\n",
      "max       3050.000000\n",
      "Name: fuel_id, dtype: float64\n",
      " \n",
      "count    14018.000000\n",
      "mean      1774.117420\n",
      "std       1193.865432\n",
      "min          7.000000\n",
      "25%        714.000000\n",
      "50%       1871.000000\n",
      "75%       2937.000000\n",
      "max       3653.000000\n",
      "Name: unit_feature_id, dtype: float64\n",
      " \n",
      "count                                                 14018\n",
      "unique                                                 8233\n",
      "top       {'dz': None, 'seed': 222, 'topo': None, 'outpu...\n",
      "freq                                                    145\n",
      "Name: run_parameters, dtype: object\n",
      " \n",
      "count                                                 11471\n",
      "unique                                                  400\n",
      "top       {'crew': [{'velocity': 2, 'gap_length': 2.0, '...\n",
      "freq                                                    859\n",
      "Name: ignition_parameters, dtype: object\n",
      " \n",
      "count                                   14011\n",
      "unique                                    942\n",
      "top       {'elapsedTime': 2989.3787902997324}\n",
      "freq                                      267\n",
      "Name: ignition_pattern, dtype: object\n",
      " \n",
      "count                                                 14004\n",
      "unique                                                10479\n",
      "top       {'consumption_all_levels': [0.7607161998748779...\n",
      "freq                                                     30\n",
      "Name: metrics, dtype: object\n",
      " \n"
     ]
    }
   ],
   "source": [
    "for i_ in sub_df:\n",
    "    print(sub_df[f'{i_}'].describe())\n",
    "    print(\" \")\n"
   ]
  }
 ],
 "metadata": {
  "kernelspec": {
   "display_name": "enlace",
   "language": "python",
   "name": "python3"
  },
  "language_info": {
   "codemirror_mode": {
    "name": "ipython",
    "version": 3
   },
   "file_extension": ".py",
   "mimetype": "text/x-python",
   "name": "python",
   "nbconvert_exporter": "python",
   "pygments_lexer": "ipython3",
   "version": "3.12.11"
  }
 },
 "nbformat": 4,
 "nbformat_minor": 5
}
